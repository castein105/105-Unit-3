{
 "cells": [
  {
   "cell_type": "markdown",
   "id": "c6d3433f-de12-4e04-8ec6-439eab3e73c1",
   "metadata": {},
   "source": [
    "# County Health Data Subset\n",
    "### Comparing the access to Healthcare Proffessionals in North Carolina and New Jersey\n"
   ]
  },
  {
   "cell_type": "markdown",
   "id": "3aec7481-32a1-4073-a0bb-fb79e171e7a2",
   "metadata": {
    "jp-MarkdownHeadingCollapsed": true,
    "tags": []
   },
   "source": [
    "# Overview \n",
    "This an instructional notebook containing seven steps. The seven step process begins with the original dataset and imports, and ends with exporting the new subset. The orginial dataset that will be used in this notebook contains county health data across all fifty states. The data was collected in 2014-2015. \n",
    "\n",
    "**In this notebook we will cover how to:**\n",
    "1. import pandas and numpy\n",
    "2. create dataframe object\n",
    "3. creating a new dataframe\n",
    "4. filtering\n",
    "5. concatenating\n",
    "6. printing\n",
    "7. exporting dataframe to csv. file\n",
    "\n",
    "By the end of these steps, we will have a data subset in the form of the csv file. The subset will contain information regarding healthcare providers in New Jersey and North Carolina. \n",
    "\n",
    "# Accessing the Starting Dataset\n",
    "\n",
    "In order to open the dataset for use in Juypter notebook, upload the dataset into your working directory by using the **upload button.** The upload button is located by the **blue plus** button in the top left corner. Once you click the **upload button,** navigate to where the csv. file is saved on your device. Once you upload the csv. file, it will be open in your working directory. \n",
    "\n",
    "Now we will begin the seven step process, which will result in the creation of a new data subset."
   ]
  },
  {
   "cell_type": "markdown",
   "id": "7175d02d-70c9-427d-85b6-29fae3393507",
   "metadata": {},
   "source": [
    "# Step 1\n",
    "### Import the Packages\n",
    "First, we will import the Packages that you will be using in Python. Packages have additional tools that are not included in the base version of Python. By importing these packages, we will be able to use them in this notebook. We will use the following code to import pandas and numpy: \n",
    "1. `import pandas as pd`\n",
    "2. `import numpy as np`\n"
   ]
  },
  {
   "cell_type": "code",
   "execution_count": 91,
   "id": "1de97ea1-6164-4bd1-a8f5-412ea32ddbda",
   "metadata": {},
   "outputs": [],
   "source": [
    "import pandas as pd\n",
    "import numpy as np"
   ]
  },
  {
   "cell_type": "markdown",
   "id": "c6d56c3c-1220-4a9a-8dcd-ec00a05e66cb",
   "metadata": {},
   "source": [
    "# Step 2\n",
    "### Create Dataframe Object\n",
    "Next, we will create our dataframe object by defining our dataframe as df by reading the data from the csv file. We will use the `pd.read_csv` function. This function reads the tabular data from the csv file you are using into a dataframe object that we are defining as **df**. Following `df=pd.read_csv`, insert the name of the dataset you are using in parentheses.\n",
    "\n",
    "\n",
    "We will create the dataframe using the code: `df=pd.read_csv(\"CountyHealthData_2014-2015.csv\")`"
   ]
  },
  {
   "cell_type": "code",
   "execution_count": 92,
   "id": "505c4ad2-7def-476a-9beb-42d7794c651c",
   "metadata": {
    "tags": []
   },
   "outputs": [],
   "source": [
    "df=pd.read_csv(\"CountyHealthData_2014-2015.csv\")"
   ]
  },
  {
   "cell_type": "markdown",
   "id": "76556b6b-7e07-4282-bc55-b69a1fc7cacb",
   "metadata": {},
   "source": [
    "# Step 3\n",
    "### Creating a New Dataframe for Desired Series\n",
    "Now, we will create a new dataframe **dfs** by selecting only the desired series from the initial dataframe df.\n",
    "\n",
    "We will create the new dataframe **dfs** by setting it eqaul to the selected series from **df**.\n",
    "\n",
    "The series we are selecting are: **State, County, Dentists, Mental health providers,** and **Primary care physicians**. Within the brackets, each series title should be in its own set of quotation marks, and seperate each series with commas. \n",
    "\n",
    "We will create the new dataframe using the code: `dfs=df[[\"State\",\"County\",\"Dentists\",\"Mental health providers\",\"Primary care physicians\"]]`"
   ]
  },
  {
   "cell_type": "code",
   "execution_count": 93,
   "id": "daed868f-6300-44fb-84b6-3b705e906857",
   "metadata": {},
   "outputs": [],
   "source": [
    "dfs=df[[\"State\",\"County\",\"Dentists\",\"Mental health providers\",\"Primary care physicians\"]]"
   ]
  },
  {
   "cell_type": "markdown",
   "id": "9f97ee95-78f3-4736-96ff-9d5d354682f5",
   "metadata": {},
   "source": [
    "# Step 4\n",
    "### Creating New Dataframes for the States through Filtering\n",
    "Create 2 seperate new data frames for both New Jersey and North Carolina. We will use filtering the data based on the series \"State\" in order to select the states for each respective dataframe.\n",
    "\n",
    "First, we will create the new dataframe for North Carolina. We will name this subset **df_NC**. We will use the code `==` because it is a comparison operator, meaning it compares the value or equality of two variables. Therefore, it will filter the data by state. The state that the `==` function will be filtering for is North Carolina.\n",
    "\n",
    "We will create this new dataframe using the code: `df_NC=dfs[dfs[\"State\"]==\"NC\"]`"
   ]
  },
  {
   "cell_type": "code",
   "execution_count": 94,
   "id": "23dba0d7-3899-4920-bfc5-23511ad3e55a",
   "metadata": {},
   "outputs": [],
   "source": [
    "df_NC=dfs[dfs[\"State\"]==\"NC\"]"
   ]
  },
  {
   "cell_type": "markdown",
   "id": "c8707b40-836c-4fdd-ab1e-4cab16bafe62",
   "metadata": {},
   "source": [
    "Next, we will repeat the same steps to create a new dataframe for New Jersey. We will name this subset **df_NJ**\n",
    "\n",
    "We will create this new dataframe using the code: `df_NJ=dfs[dfs[\"State\"]==\"NJ\"]`"
   ]
  },
  {
   "cell_type": "code",
   "execution_count": 95,
   "id": "f2b2ea8a-adcb-4b23-8057-057027be3bf2",
   "metadata": {},
   "outputs": [],
   "source": [
    "df_NJ=dfs[dfs[\"State\"]==\"NJ\"]"
   ]
  },
  {
   "cell_type": "markdown",
   "id": "b2518ccf-db85-4881-88f2-253f0610c540",
   "metadata": {},
   "source": [
    "# Step 5\n",
    "### Concatenating our Data\n",
    "In this step, we will create a new dataframe by concatenating both the data from North Carolina and New Jersey. \n",
    "\n",
    "**Concatenating data** is used when we have 2 datasets that are identical in shape. By concatenating the data, we are glueing the 2 datasets together in order to create a new dataframe. We are taking the data from New Jersey, and the data from North Carolina, and concatenating the data to create one dataframe. Also, it is important to note that concatenating data is not the same as merging data. \n",
    "\n",
    "In order to concatenate data in pandas, use: `pd.concat`\n",
    "\n",
    "We will name our new concatenated dataframe: **df_NC_NJ_subset**\n",
    "\n",
    "We will use the code: `df_NC_NJ_subset=pd.concat([df_NJ,df_NC],axis=0,ignore_index=True,sort=False)` in order to create the new dataframe."
   ]
  },
  {
   "cell_type": "code",
   "execution_count": 101,
   "id": "977e912b-fba0-4808-b9a0-02472526bc8c",
   "metadata": {},
   "outputs": [],
   "source": [
    "df_NC_NJ_subset=pd.concat([df_NJ,df_NC],axis=0,ignore_index=True,sort=False)"
   ]
  },
  {
   "cell_type": "markdown",
   "id": "9200559a-e20d-4aea-ba16-bd2e9f753fec",
   "metadata": {},
   "source": [
    "# Step 6\n",
    "### Printing\n",
    "Print the new **df_NC_NJ_subset** dataframe to confirm that the dataframe contains all the series we expected for both New Jersey and North Carolina.\n",
    "\n",
    "Print using: `print(df_NC_NJ_subset)`\n",
    "\n",
    "While this step is not necessary, it is useful because it checks to make sure all of the necessary data is pulled from the original datasets. "
   ]
  },
  {
   "cell_type": "code",
   "execution_count": 98,
   "id": "f75d5f36-707f-414a-8081-25b041c5a5ee",
   "metadata": {},
   "outputs": [
    {
     "name": "stdout",
     "output_type": "stream",
     "text": [
      "    State             County  Dentists  Mental health providers  \\\n",
      "0      NJ    Atlantic County      54.0                     80.0   \n",
      "1      NJ    Atlantic County      53.0                    104.0   \n",
      "2      NJ      Bergen County     120.0                    170.0   \n",
      "3      NJ      Bergen County     123.0                    204.0   \n",
      "4      NJ  Burlington County      67.0                     98.0   \n",
      "..    ...                ...       ...                      ...   \n",
      "237    NC      Wilson County      36.0                    119.0   \n",
      "238    NC      Yadkin County      18.0                     39.0   \n",
      "239    NC      Yadkin County      18.0                     60.0   \n",
      "240    NC      Yancey County      28.0                     67.0   \n",
      "241    NC      Yancey County      28.0                    165.0   \n",
      "\n",
      "     Primary care physicians  \n",
      "0                       76.0  \n",
      "1                       75.0  \n",
      "2                      122.0  \n",
      "3                      125.0  \n",
      "4                       86.0  \n",
      "..                       ...  \n",
      "237                     43.0  \n",
      "238                     29.0  \n",
      "239                     29.0  \n",
      "240                     73.0  \n",
      "241                     74.0  \n",
      "\n",
      "[242 rows x 5 columns]\n"
     ]
    }
   ],
   "source": [
    "print(df_NC_NJ_subset)"
   ]
  },
  {
   "cell_type": "markdown",
   "id": "9b7abb61-3b22-4b27-a4f9-8ab146fa2320",
   "metadata": {},
   "source": [
    "# Step 7\n",
    "### Exporting Dataframe to csv File\n",
    "Lastly, we will create a csv file by exporting the dataframe to a csv file. \n",
    "\n",
    "In order to export a csv file into our working directory, use `.to_csv()`. Add `index=false` to the end of the statement, in order to prevent row of indices that pandas has created. \n",
    "\n",
    "Once you run the code: `df_NC_NJ_subset.to_csv(\"NC_NJ_subset.csv\", index=False)`, a new csv file will appear in your working directory. "
   ]
  },
  {
   "cell_type": "code",
   "execution_count": 99,
   "id": "90bc09d2-2302-4b56-b64c-a535dd13e355",
   "metadata": {},
   "outputs": [],
   "source": [
    "df_NC_NJ_subset.to_csv(\"NC_NJ_subset.csv\", index=False)"
   ]
  },
  {
   "cell_type": "markdown",
   "id": "cc7021e1-3770-4498-9453-9342b2e41270",
   "metadata": {},
   "source": [
    "# How to Access the `.ipyn` File\n",
    "\n",
    "If you close out of your `.ipyn` file and you want to reopen it, use the following steps:\n",
    "\n",
    "1. run the cells to import pandas and numpy\n",
    "2. run the cells to create a dataframe using `pd.read_csv`\n",
    "3. explore and manipulate your data!"
   ]
  }
 ],
 "metadata": {
  "kernelspec": {
   "display_name": "Python 3 (ipykernel)",
   "language": "python",
   "name": "python3"
  },
  "language_info": {
   "codemirror_mode": {
    "name": "ipython",
    "version": 3
   },
   "file_extension": ".py",
   "mimetype": "text/x-python",
   "name": "python",
   "nbconvert_exporter": "python",
   "pygments_lexer": "ipython3",
   "version": "3.9.13"
  }
 },
 "nbformat": 4,
 "nbformat_minor": 5
}
